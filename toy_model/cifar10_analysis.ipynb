{
 "cells": [
  {
   "cell_type": "code",
   "execution_count": 1,
   "metadata": {
    "collapsed": true
   },
   "outputs": [],
   "source": [
    "import torch\n",
    "import torch.nn as nn\n",
    "import torch.nn.functional as F\n",
    "from torch.autograd import Variable\n",
    "import torchvision.datasets as dsets\n",
    "import torchvision.transforms as trans\n",
    "import torchvision as tv\n",
    "\n",
    "import matplotlib\n",
    "%matplotlib inline\n",
    "import matplotlib.pyplot as plt\n",
    "import numpy as np\n",
    "import scipy\n",
    "import scipy.linalg as LN\n",
    "\n",
    "import os,time,random\n",
    "os.sys.path.insert(0,'../')\n",
    "import utils\n",
    "import models\n",
    "import attacks"
   ]
  },
  {
   "cell_type": "code",
   "execution_count": 92,
   "metadata": {
    "collapsed": false
   },
   "outputs": [
    {
     "name": "stdout",
     "output_type": "stream",
     "text": [
      "Files already downloaded and verified\n",
      "resnet: depth: 8, # of blocks at each stage: 1\n"
     ]
    }
   ],
   "source": [
    "batch_size=200\n",
    "model_path = '../pretrains/store/resnet8-cifar10-87.25.pkl'\n",
    "model_arch = 'resnet8'\n",
    "B    = 5.0/255\n",
    "step = 1\n",
    "eps  = 5.0/255\n",
    "\n",
    "train_set = dsets.CIFAR10(root='/home/leiwu/data/cifar10/',train=True,transform=trans.ToTensor(),download=True)\n",
    "test_set  = dsets.CIFAR10(root='/home/leiwu/data/cifar10/',train=False,transform=trans.ToTensor(),download=False)\n",
    "trX,trY   = torch.from_numpy(train_set.train_data.copy()).float()/255.0,torch.LongTensor(train_set.train_labels)\n",
    "teX, teY  = torch.from_numpy(test_set.test_data.copy()).float()/255.0,   torch.LongTensor(test_set.test_labels)\n",
    "\n",
    "train_loader = torch.utils.data.DataLoader(dataset=train_set,batch_size=batch_size,shuffle=False)\n",
    "test_loader  = torch.utils.data.DataLoader(dataset=test_set, batch_size=batch_size,shuffle=False)\n",
    "\n",
    "model       = models.__dict__[model_arch]().cuda()\n",
    "model_state = torch.load(model_path)\n",
    "model.load_state_dict(model_state)\n",
    "ct    = nn.CrossEntropyLoss().cuda()\n",
    "\n",
    "def show(img,nrow=8):\n",
    "    if isinstance(img,np.ndarray):\n",
    "        img = torch.from_numpy(img)\n",
    "    img = tv.utils.make_grid(img,nrow=nrow)\n",
    "    npimg = img.numpy()\n",
    "    npimg = np.transpose(npimg,(1,2,0))\n",
    "    plt.imshow(npimg,interpolation='nearest')\n",
    "\n",
    "def batch_attack(model,ct,lr,eps,niter=1):\n",
    "    adv_img = torch.zeros(10000,3,32,32)\n",
    "\n",
    "    for i,(x,y) in enumerate(test_loader):\n",
    "        if niter==1:\n",
    "            lr = eps\n",
    "        adv_x = attacks.gsm(model,ct,x.cuda(),y.cuda(),lr=lr,eps=eps,niter=niter)\n",
    "        adv_img[i*batch_size:(i+1)*batch_size] = adv_x\n",
    "    return adv_img"
   ]
  },
  {
   "cell_type": "code",
   "execution_count": 102,
   "metadata": {
    "collapsed": false
   },
   "outputs": [],
   "source": [
    "adv_x = batch_attack(model,ct,lr=B,eps=eps,niter=step)\n",
    "adv_pred = utils.predictor(model,adv_x.cuda())\n",
    "clean_pred = utils.predictor(model,teX.cuda())\n",
    "correct  = adv_pred.eq(clean_pred).squeeze()\n",
    "wrong    = torch.ones(10000).byte()-correct\n",
    "wrong_idx = wrong.nonzero()"
   ]
  },
  {
   "cell_type": "code",
   "execution_count": 97,
   "metadata": {
    "collapsed": false
   },
   "outputs": [],
   "source": [
    "wrong_idx = wrong.nonzero()\n",
    "adv_pred_wrong = adv_pred.index_select()"
   ]
  },
  {
   "cell_type": "code",
   "execution_count": 101,
   "metadata": {
    "collapsed": false
   },
   "outputs": [
    {
     "data": {
      "text/plain": [
       "\n",
       "    0\n",
       "    2\n",
       "    4\n",
       "  ⋮   \n",
       " 9997\n",
       " 9998\n",
       " 9999\n",
       "[torch.LongTensor of size 8467x1]"
      ]
     },
     "execution_count": 101,
     "metadata": {},
     "output_type": "execute_result"
    }
   ],
   "source": [
    "wrong.squeeze().nonzero()"
   ]
  },
  {
   "cell_type": "code",
   "execution_count": null,
   "metadata": {
    "collapsed": true
   },
   "outputs": [],
   "source": []
  }
 ],
 "metadata": {
  "anaconda-cloud": {},
  "kernelspec": {
   "display_name": "Python [default]",
   "language": "python",
   "name": "python2"
  },
  "language_info": {
   "codemirror_mode": {
    "name": "ipython",
    "version": 2
   },
   "file_extension": ".py",
   "mimetype": "text/x-python",
   "name": "python",
   "nbconvert_exporter": "python",
   "pygments_lexer": "ipython2",
   "version": "2.7.12"
  }
 },
 "nbformat": 4,
 "nbformat_minor": 1
}
