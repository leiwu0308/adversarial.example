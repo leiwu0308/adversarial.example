{
 "cells": [
  {
   "cell_type": "code",
   "execution_count": 1,
   "metadata": {
    "collapsed": true
   },
   "outputs": [],
   "source": [
    "import torch\n",
    "import torch.nn as nn\n",
    "import torch.nn.functional as F\n",
    "from torch.autograd import Variable\n",
    "import torchvision.datasets as dsets\n",
    "import torchvision.transforms as trans\n",
    "import torchvision as tv\n",
    "\n",
    "import matplotlib\n",
    "%matplotlib inline\n",
    "import matplotlib.pyplot as plt\n",
    "import numpy as np\n",
    "import scipy\n",
    "import scipy.linalg as LN\n",
    "\n",
    "import os,time,random\n",
    "os.sys.path.insert(0,'../')\n",
    "import utils\n",
    "import models\n",
    "import attacks"
   ]
  },
  {
   "cell_type": "code",
   "execution_count": 2,
   "metadata": {
    "collapsed": false
   },
   "outputs": [
    {
     "name": "stdout",
     "output_type": "stream",
     "text": [
      "Files already downloaded and verified\n"
     ]
    }
   ],
   "source": [
    "batch_size=200\n",
    "model_path = '../pretrains/store/resnet8-cifar10-87.25.pkl'\n",
    "model_arch = 'resnet8'\n",
    "B    = 30.0/255\n",
    "step = 1\n",
    "eps  = 30.0/255\n",
    "\n",
    "train_set = dsets.CIFAR10(root='/home/leiwu/data/cifar10/',train=True,transform=trans.ToTensor(),download=True)\n",
    "test_set  = dsets.CIFAR10(root='/home/leiwu/data/cifar10/',train=False,transform=trans.ToTensor(),download=False)\n"
   ]
  },
  {
   "cell_type": "code",
   "execution_count": null,
   "metadata": {
    "collapsed": true
   },
   "outputs": [],
   "source": []
  }
 ],
 "metadata": {
  "kernelspec": {
   "display_name": "Python [default]",
   "language": "python",
   "name": "python2"
  },
  "language_info": {
   "codemirror_mode": {
    "name": "ipython",
    "version": 2
   },
   "file_extension": ".py",
   "mimetype": "text/x-python",
   "name": "python",
   "nbconvert_exporter": "python",
   "pygments_lexer": "ipython2",
   "version": "2.7.12"
  }
 },
 "nbformat": 4,
 "nbformat_minor": 1
}
