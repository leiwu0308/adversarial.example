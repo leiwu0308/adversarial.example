{
 "cells": [
  {
   "cell_type": "code",
   "execution_count": 1,
   "metadata": {
    "collapsed": false
   },
   "outputs": [],
   "source": [
    "import torch\n",
    "import torch.nn as nn\n",
    "import torch.nn.functional as F\n",
    "from torch.autograd import Variable\n",
    "import torchvision.datasets as dsets\n",
    "import torchvision.transforms as trans\n",
    "\n",
    "import matplotlib\n",
    "%matplotlib inline\n",
    "import matplotlib.pyplot as plt\n",
    "import numpy as np\n",
    "import scipy\n",
    "import scipy.linalg as LN\n",
    "\n",
    "import os,time,random\n",
    "os.sys.path.insert(0,'../')\n",
    "import utils"
   ]
  },
  {
   "cell_type": "code",
   "execution_count": 2,
   "metadata": {
    "collapsed": false
   },
   "outputs": [
    {
     "name": "stdout",
     "output_type": "stream",
     "text": [
      "Files already downloaded\n"
     ]
    }
   ],
   "source": [
    "train_set = dsets.MNIST(root='/home/leiwu/data/mnist',train=True, transform=trans.ToTensor(),download=True)\n",
    "test_set  = dsets.MNIST(root='/home/leiwu/data/mnist',train=False,transform=trans.ToTensor(),download=False)\n",
    "trX,trY,teX,teY = train_set.train_data, train_set.train_labels,test_set.test_data, test_set.test_labels\n",
    "\n",
    "def shuffle(X,y):\n",
    "    n = X.shape[0]\n",
    "    assert y.shape[0]==n,'number of samples should match'\n",
    "    idx = np.arange(n)\n",
    "    np.random.shuffle(idx)\n",
    "    X = X[idx]\n",
    "    y = y[idx]\n",
    "    return X,y\n",
    "\n",
    "def \n",
    "\n",
    "class LinearClassifier(nn.Module):\n",
    "    def __init__(self,input_dim,output_dim):\n",
    "        super(LinearClassifier,self).__init__()\n",
    "        self.W = Variable(torch.zeros(input_dim,output_dim),requires_grad=True)\n",
    "#         self.fc = nn.Linear(input_dim,output_dim)\n",
    "    \n",
    "    def forward(self,x):\n",
    "        o = torch.mm(x,self.W)\n",
    "        return o"
   ]
  },
  {
   "cell_type": "code",
   "execution_count": 20,
   "metadata": {
    "collapsed": false,
    "scrolled": false
   },
   "outputs": [
    {
     "name": "stdout",
     "output_type": "stream",
     "text": [
      "2.44753309563\n",
      "[ 30.59169186   8.00687097   4.47360456   2.64299575   1.88595456\n",
      "   1.4209996    1.00978344   0.90880165   0.81436173   0.75014001\n",
      "   0.64741157   0.54030683   0.48947767   0.4579028    0.4200581\n",
      "   0.40909355   0.39029263   0.34291381   0.32963447   0.29592114\n",
      "   0.27971455   0.27236002   0.25639874   0.23603478   0.22843534\n",
      "   0.20479152   0.19513968   0.18801307   0.17319457   0.16777411\n",
      "   0.16313661   0.15660521   0.15231319   0.14324707   0.14021376\n",
      "   0.13745359   0.12768588   0.12144256   0.11721658]\n"
     ]
    },
    {
     "data": {
      "image/png": "[encoded data removed]",
      "text/plain": [
       "<matplotlib.figure.Figure at 0x7f37b7e896d0>"
      ]
     },
     "metadata": {},
     "output_type": "display_data"
    }
   ],
   "source": [
    "X,y = trX.numpy(),trY.numpy()\n",
    "idx = y==9\n",
    "X0,y0 = X[idx],y[idx]\n",
    "X0 = X0.astype(np.float)/255\n",
    "y0.fill(-1)\n",
    "\n",
    "idx = y==1\n",
    "X1,y1 = X[idx],y[idx]\n",
    "X1 = X1.astype(np.float)/255\n",
    "\n",
    "X = np.concatenate((X0,X1),axis=0)\n",
    "y = np.concatenate((y0,y1),axis=0).astype(np.float).reshape(-1,1)\n",
    "X,y = shuffle(X,y)\n",
    "\n",
    "\n",
    "N = X.shape[0]\n",
    "W,H = 28,28\n",
    "X = X.reshape(N,W*H)\n",
    "X_mean = X.mean(axis=0)\n",
    "# X = X - X_mean\n",
    "S = np.dot(np.transpose(X),X)/N\n",
    "eigs,eigv = scipy.linalg.eigh(S)\n",
    "\n",
    "\n",
    "mean0 = X0.mean(axis=0)\n",
    "mean1 = X1.mean(axis=0)\n",
    "mean_d = mean0 - mean1\n",
    "\n",
    "plt.subplot(1,3,1); plt.imshow(mean0,cmap='gray')\n",
    "plt.subplot(1,3,2); plt.imshow(mean1,cmap='gray')\n",
    "plt.subplot(1,3,3); plt.imshow(np.abs(mean_d),cmap='gray')\n",
    "\n",
    "print(np.linalg.norm(mean_d,1)/784*255)\n",
    "print(eigs[:-40:-1])"
   ]
  },
  {
   "cell_type": "code",
   "execution_count": 25,
   "metadata": {
    "collapsed": false
   },
   "outputs": [
    {
     "name": "stdout",
     "output_type": "stream",
     "text": [
      "0, 5.00e-01, 1.30e-01\n",
      "500, 2.69e-02, 6.01e-01\n",
      "1000, 2.59e-02, 6.62e-01\n",
      "1500, 2.55e-02, 6.92e-01\n",
      "2000, 2.53e-02, 7.08e-01\n",
      "2500, 2.52e-02, 7.18e-01\n",
      "3000, 2.51e-02, 7.25e-01\n",
      "3500, 2.51e-02, 7.29e-01\n",
      "4000, 2.50e-02, 7.32e-01\n",
      "4500, 2.50e-02, 7.33e-01\n",
      "5000, 2.50e-02, 7.35e-01\n",
      "5500, 2.50e-02, 7.36e-01\n",
      "6000, 2.50e-02, 7.36e-01\n",
      "6500, 2.50e-02, 7.37e-01\n",
      "7000, 2.50e-02, 7.37e-01\n",
      "7500, 2.49e-02, 7.37e-01\n",
      "8000, 2.49e-02, 7.37e-01\n",
      "8500, 2.49e-02, 7.37e-01\n",
      "9000, 2.49e-02, 7.38e-01\n",
      "9500, 2.49e-02, 7.38e-01\n"
     ]
    }
   ],
   "source": [
    "W = np.zeros((784,1))\n",
    "b = 0\n",
    "lr = 0.05\n",
    "mu = 0.01\n",
    "for i in range(10000):\n",
    "    dy = np.dot(X,W) + b - y\n",
    "    E  = np.linalg.norm(dy,ord='fro')**2/(2*N)\n",
    "    dW = np.dot(np.transpose(X),dy)/N\n",
    "    db = dy / N\n",
    "    W  = W - lr * (dW + mu * W) \n",
    "    b  = b - lr * (db + mu* b)\n",
    "    \n",
    "    if i % 500 ==0:\n",
    "        print('%d, %.2e, %.2e'%(i,E,np.linalg.norm(W)))"
   ]
  },
  {
   "cell_type": "code",
   "execution_count": null,
   "metadata": {
    "collapsed": false
   },
   "outputs": [],
   "source": [
    "plt.figure(figsize=(11,3))\n",
    "plt.subplot(1,2,1); plt.plot(W,'-r')\n",
    "W_ = np.abs(W.reshape(28,28))\n",
    "W_ = W_ / W_.max()\n",
    "plt.subplot(1,2,2); plt.imshow(W_,cmap='gray')\n",
    "\n",
    "\n",
    "perturbation = np.sign(W.squeeze())*20/255.0\n",
    "Xnew = X + np.expand_dims(perturbation,axis=0)\n",
    "\n",
    "plt.figure(figsize=(11,3))\n",
    "k,l=np.random.randint(0,N),np.random.randint(0,N)\n",
    "plt.subplot(2,2,1); plt.imshow(X[k].reshape(28,28),cmap='gray')\n",
    "plt.subplot(2,2,2); plt.imshow(Xnew[k].reshape(28,28),cmap='gray')\n",
    "plt.subplot(2,2,3); plt.imshow(X[l].reshape(28,28),cmap='gray')\n",
    "plt.subplot(2,2,4); plt.imshow(Xnew[l].reshape(28,28),cmap='gray')\n",
    "   \n",
    "\n",
    "print('L1 norm of W',np.linalg.norm(W,1))"
   ]
  },
  {
   "cell_type": "code",
   "execution_count": null,
   "metadata": {
    "collapsed": false,
    "scrolled": false
   },
   "outputs": [],
   "source": [
    "N = 60000\n",
    "d = 28*28\n",
    "X,Y = np.ones((N,d+1)),np.zeros((N,10))\n",
    "X[:,1:]=train_set.train_data.numpy().reshape((N,28*28)).astype(np.float32)/255\n",
    "labels = train_set.train_labels\n",
    "for i,l in enumerate(labels):\n",
    "    Y[i][l]=1\n",
    "\n",
    "A = np.dot(X.transpose(),X)\n",
    "b = np.dot(X.transpose(),Y)\n",
    "A_ = A + np.eye(d+1)*1e-5\n",
    "beta = scipy.linalg.solve(A_,b,assume_a='sym')\n",
    "# # print(X.max())\n",
    "# X = X[0:50000]\n",
    "# X = X.astype(np.float32)\n",
    "# V = np.dot(X.transpose(),X)/X.shape[0]\n",
    "# S=LN.eigvalsh(V)\n",
    "# S = S[::-1]\n",
    "# S = np.cumsum(S)\n",
    "# S = S / S[-1]*100\n",
    "# plt.plot(S,'o')"
   ]
  }
 ],
 "metadata": {
  "anaconda-cloud": {},
  "kernelspec": {
   "display_name": "Python [default]",
   "language": "python",
   "name": "python2"
  },
  "language_info": {
   "codemirror_mode": {
    "name": "ipython",
    "version": 2
   },
   "file_extension": ".py",
   "mimetype": "text/x-python",
   "name": "python",
   "nbconvert_exporter": "python",
   "pygments_lexer": "ipython2",
   "version": "2.7.12"
  }
 },
 "nbformat": 4,
 "nbformat_minor": 1
}
